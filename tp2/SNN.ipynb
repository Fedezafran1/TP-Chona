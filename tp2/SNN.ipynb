{
  "cells": [
    {
      "cell_type": "markdown",
      "metadata": {
        "id": "E5MvfaYmnfke"
      },
      "source": [
        "# Simple Neural Network\n",
        "\n",
        "Simple Red Neuronal (Perceptrón) para la materia Tecnologías Exponenciales - TIC\n",
        "\n",
        "Inspirado en https://github.com/jonasbostoen/simple-neural-network"
      ]
    },
    {
      "cell_type": "markdown",
      "metadata": {
        "id": "WYr3ptD1nklQ"
      },
      "source": [
        "### Librerias"
      ]
    },
    {
      "cell_type": "code",
      "execution_count": 6,
      "metadata": {
        "id": "ZLJi7O0hCEn3"
      },
      "outputs": [
        {
          "ename": "ModuleNotFoundError",
          "evalue": "No module named 'numpy'",
          "output_type": "error",
          "traceback": [
            "\u001b[1;31m---------------------------------------------------------------------------\u001b[0m",
            "\u001b[1;31mModuleNotFoundError\u001b[0m                       Traceback (most recent call last)",
            "\u001b[1;32md:\\github\\TP-Chona\\tp2\\SNN.ipynb Cell 3\u001b[0m line \u001b[0;36m1\n\u001b[1;32m----> <a href='vscode-notebook-cell:/d%3A/github/TP-Chona/tp2/SNN.ipynb#W2sZmlsZQ%3D%3D?line=0'>1</a>\u001b[0m \u001b[39mimport\u001b[39;00m \u001b[39mnumpy\u001b[39;00m \u001b[39mas\u001b[39;00m \u001b[39mnp\u001b[39;00m\n\u001b[0;32m      <a href='vscode-notebook-cell:/d%3A/github/TP-Chona/tp2/SNN.ipynb#W2sZmlsZQ%3D%3D?line=1'>2</a>\u001b[0m \u001b[39mimport\u001b[39;00m \u001b[39mpandas\u001b[39;00m \u001b[39mas\u001b[39;00m \u001b[39mpd\u001b[39;00m\n\u001b[0;32m      <a href='vscode-notebook-cell:/d%3A/github/TP-Chona/tp2/SNN.ipynb#W2sZmlsZQ%3D%3D?line=2'>3</a>\u001b[0m \u001b[39mimport\u001b[39;00m \u001b[39mmatplotlib\u001b[39;00m\u001b[39m.\u001b[39;00m\u001b[39mpyplot\u001b[39;00m \u001b[39mas\u001b[39;00m \u001b[39mplt\u001b[39;00m\n",
            "\u001b[1;31mModuleNotFoundError\u001b[0m: No module named 'numpy'"
          ]
        }
      ],
      "source": [
        "import numpy as np\n",
        "import pandas as pd\n",
        "import matplotlib.pyplot as plt\n",
        "from IPython.display import HTML, display\n",
        "import tabulate\n",
        "import networkx as nx\n",
        "from random import random as rand\n",
        "import itertools"
      ]
    },
    {
      "cell_type": "code",
      "execution_count": 3,
      "metadata": {
        "id": "lUUgSMF_CM5m"
      },
      "outputs": [
        {
          "ename": "NameError",
          "evalue": "name 'np' is not defined",
          "output_type": "error",
          "traceback": [
            "\u001b[1;31m---------------------------------------------------------------------------\u001b[0m",
            "\u001b[1;31mNameError\u001b[0m                                 Traceback (most recent call last)",
            "\u001b[1;32md:\\github\\TP-Chona\\tp2\\SNN.ipynb Cell 4\u001b[0m line \u001b[0;36m1\n\u001b[1;32m----> <a href='vscode-notebook-cell:/d%3A/github/TP-Chona/tp2/SNN.ipynb#W3sZmlsZQ%3D%3D?line=0'>1</a>\u001b[0m np\u001b[39m.\u001b[39mrandom\u001b[39m.\u001b[39mseed(\u001b[39m1\u001b[39m)\n",
            "\u001b[1;31mNameError\u001b[0m: name 'np' is not defined"
          ]
        }
      ],
      "source": [
        "np.random.seed(1)"
      ]
    },
    {
      "cell_type": "markdown",
      "metadata": {
        "id": "b8-iBQcXnmQz"
      },
      "source": [
        "### Funciones"
      ]
    },
    {
      "cell_type": "code",
      "execution_count": 4,
      "metadata": {
        "id": "d-ylyCurCJpi"
      },
      "outputs": [],
      "source": [
        "#DEFINIMOS NUESTRA RED COMO UNA DE TIPO SIGMOIDE\n",
        "def sigmoid(x):\n",
        "    return 1 / ( 1 + np.exp(-x) )\n",
        "\n",
        "# sigmoid = lambda x : 1 / ( 1 + np.exp(-x) )\n",
        "\n",
        "def sigmoid_derivative(x):\n",
        "    return x * (1 - x)\n",
        "\n",
        "# sigmoid_derivative = lambda x : x * (1 - x)"
      ]
    },
    {
      "cell_type": "markdown",
      "metadata": {
        "id": "Q0ikk-Oyno28"
      },
      "source": [
        "#### Visualización Función Sigmoide"
      ]
    },
    {
      "cell_type": "code",
      "execution_count": 5,
      "metadata": {
        "colab": {
          "base_uri": "https://localhost:8080/",
          "height": 273
        },
        "id": "_T8o08_KGUpQ",
        "outputId": "dbb3c515-0ee4-4786-8854-bf8ebef6b524"
      },
      "outputs": [
        {
          "ename": "NameError",
          "evalue": "name 'np' is not defined",
          "output_type": "error",
          "traceback": [
            "\u001b[1;31m---------------------------------------------------------------------------\u001b[0m",
            "\u001b[1;31mNameError\u001b[0m                                 Traceback (most recent call last)",
            "\u001b[1;32md:\\github\\TP-Chona\\tp2\\SNN.ipynb Cell 8\u001b[0m line \u001b[0;36m1\n\u001b[1;32m----> <a href='vscode-notebook-cell:/d%3A/github/TP-Chona/tp2/SNN.ipynb#X10sZmlsZQ%3D%3D?line=0'>1</a>\u001b[0m x \u001b[39m=\u001b[39m np\u001b[39m.\u001b[39mlinspace(\u001b[39m-\u001b[39m\u001b[39m5\u001b[39m,\u001b[39m5\u001b[39m,\u001b[39m100\u001b[39m)\n\u001b[0;32m      <a href='vscode-notebook-cell:/d%3A/github/TP-Chona/tp2/SNN.ipynb#X10sZmlsZQ%3D%3D?line=1'>2</a>\u001b[0m y \u001b[39m=\u001b[39m sigmoid(x)\n\u001b[0;32m      <a href='vscode-notebook-cell:/d%3A/github/TP-Chona/tp2/SNN.ipynb#X10sZmlsZQ%3D%3D?line=2'>3</a>\u001b[0m fig \u001b[39m=\u001b[39m plt\u001b[39m.\u001b[39mfigure()\n",
            "\u001b[1;31mNameError\u001b[0m: name 'np' is not defined"
          ]
        }
      ],
      "source": [
        "x = np.linspace(-5,5,100)\n",
        "y = sigmoid(x)\n",
        "fig = plt.figure()\n",
        "ax = fig.add_subplot(1, 1, 1)\n",
        "\n",
        "# Move left y-axis and bottim x-axis to centre, passing through (0,0)\n",
        "ax.spines['left'].set_position('center')\n",
        "\n",
        "# Eliminate upper and right axes\n",
        "ax.spines['right'].set_color('none')\n",
        "ax.spines['top'].set_color('none')\n",
        "\n",
        "plt.plot(x, y)\n",
        "plt.locator_params(axis='y', nbins=3)\n",
        "plt.yticks(fontsize=18)\n",
        "plt.xticks(fontsize=18)\n",
        "plt.grid()"
      ]
    },
    {
      "cell_type": "markdown",
      "metadata": {
        "id": "Lt58rBeCoBqX"
      },
      "source": [
        "## Setup"
      ]
    },
    {
      "cell_type": "markdown",
      "metadata": {
        "id": "wlwVE47Lntcq"
      },
      "source": [
        "### Values"
      ]
    },
    {
      "cell_type": "markdown",
      "metadata": {
        "id": "xvUJGV0Huj1F"
      },
      "source": [
        "#### Training Values"
      ]
    },
    {
      "cell_type": "code",
      "execution_count": null,
      "metadata": {},
      "outputs": [
        {
          "data": {
            "text/html": [
              "<div>\n",
              "<style scoped>\n",
              "    .dataframe tbody tr th:only-of-type {\n",
              "        vertical-align: middle;\n",
              "    }\n",
              "\n",
              "    .dataframe tbody tr th {\n",
              "        vertical-align: top;\n",
              "    }\n",
              "\n",
              "    .dataframe thead th {\n",
              "        text-align: right;\n",
              "    }\n",
              "</style>\n",
              "<table border=\"1\" class=\"dataframe\">\n",
              "  <thead>\n",
              "    <tr style=\"text-align: right;\">\n",
              "      <th></th>\n",
              "      <th>show_id</th>\n",
              "      <th>type</th>\n",
              "      <th>title</th>\n",
              "      <th>director</th>\n",
              "      <th>cast</th>\n",
              "      <th>country</th>\n",
              "      <th>date_added</th>\n",
              "      <th>release_year</th>\n",
              "      <th>rating</th>\n",
              "      <th>duration</th>\n",
              "      <th>listed_in</th>\n",
              "      <th>description</th>\n",
              "    </tr>\n",
              "  </thead>\n",
              "  <tbody>\n",
              "    <tr>\n",
              "      <th>7</th>\n",
              "      <td>s8</td>\n",
              "      <td>Movie</td>\n",
              "      <td>Sankofa</td>\n",
              "      <td>Haile Gerima</td>\n",
              "      <td>Kofi Ghanaba, Oyafunmike Ogunlano, Alexandra D...</td>\n",
              "      <td>United States, Ghana, Burkina Faso, United Kin...</td>\n",
              "      <td>September 24, 2021</td>\n",
              "      <td>1993</td>\n",
              "      <td>TV-MA</td>\n",
              "      <td>125 min</td>\n",
              "      <td>Dramas, Independent Movies, International Movies</td>\n",
              "      <td>On a photo shoot in Ghana, an American model s...</td>\n",
              "    </tr>\n",
              "    <tr>\n",
              "      <th>8</th>\n",
              "      <td>s9</td>\n",
              "      <td>TV Show</td>\n",
              "      <td>The Great British Baking Show</td>\n",
              "      <td>Andy Devonshire</td>\n",
              "      <td>Mel Giedroyc, Sue Perkins, Mary Berry, Paul Ho...</td>\n",
              "      <td>United Kingdom</td>\n",
              "      <td>September 24, 2021</td>\n",
              "      <td>2021</td>\n",
              "      <td>TV-14</td>\n",
              "      <td>9 Seasons</td>\n",
              "      <td>British TV Shows, Reality TV</td>\n",
              "      <td>A talented batch of amateur bakers face off in...</td>\n",
              "    </tr>\n",
              "    <tr>\n",
              "      <th>9</th>\n",
              "      <td>s10</td>\n",
              "      <td>Movie</td>\n",
              "      <td>The Starling</td>\n",
              "      <td>Theodore Melfi</td>\n",
              "      <td>Melissa McCarthy, Chris O'Dowd, Kevin Kline, T...</td>\n",
              "      <td>United States</td>\n",
              "      <td>September 24, 2021</td>\n",
              "      <td>2021</td>\n",
              "      <td>PG-13</td>\n",
              "      <td>104 min</td>\n",
              "      <td>Comedies, Dramas</td>\n",
              "      <td>A woman adjusting to life after a loss contend...</td>\n",
              "    </tr>\n",
              "    <tr>\n",
              "      <th>12</th>\n",
              "      <td>s13</td>\n",
              "      <td>Movie</td>\n",
              "      <td>Je Suis Karl</td>\n",
              "      <td>Christian Schwochow</td>\n",
              "      <td>Luna Wedler, Jannis Niewöhner, Milan Peschel, ...</td>\n",
              "      <td>Germany, Czech Republic</td>\n",
              "      <td>September 23, 2021</td>\n",
              "      <td>2021</td>\n",
              "      <td>TV-MA</td>\n",
              "      <td>127 min</td>\n",
              "      <td>Dramas, International Movies</td>\n",
              "      <td>After most of her family is murdered in a terr...</td>\n",
              "    </tr>\n",
              "    <tr>\n",
              "      <th>24</th>\n",
              "      <td>s25</td>\n",
              "      <td>Movie</td>\n",
              "      <td>Jeans</td>\n",
              "      <td>S. Shankar</td>\n",
              "      <td>Prashanth, Aishwarya Rai Bachchan, Sri Lakshmi...</td>\n",
              "      <td>India</td>\n",
              "      <td>September 21, 2021</td>\n",
              "      <td>1998</td>\n",
              "      <td>TV-14</td>\n",
              "      <td>166 min</td>\n",
              "      <td>Comedies, International Movies, Romantic Movies</td>\n",
              "      <td>When the father of the man she loves insists t...</td>\n",
              "    </tr>\n",
              "  </tbody>\n",
              "</table>\n",
              "</div>"
            ],
            "text/plain": [
              "   show_id     type                          title             director  \\\n",
              "7       s8    Movie                        Sankofa         Haile Gerima   \n",
              "8       s9  TV Show  The Great British Baking Show      Andy Devonshire   \n",
              "9      s10    Movie                   The Starling       Theodore Melfi   \n",
              "12     s13    Movie                   Je Suis Karl  Christian Schwochow   \n",
              "24     s25    Movie                          Jeans           S. Shankar   \n",
              "\n",
              "                                                 cast  \\\n",
              "7   Kofi Ghanaba, Oyafunmike Ogunlano, Alexandra D...   \n",
              "8   Mel Giedroyc, Sue Perkins, Mary Berry, Paul Ho...   \n",
              "9   Melissa McCarthy, Chris O'Dowd, Kevin Kline, T...   \n",
              "12  Luna Wedler, Jannis Niewöhner, Milan Peschel, ...   \n",
              "24  Prashanth, Aishwarya Rai Bachchan, Sri Lakshmi...   \n",
              "\n",
              "                                              country          date_added  \\\n",
              "7   United States, Ghana, Burkina Faso, United Kin...  September 24, 2021   \n",
              "8                                      United Kingdom  September 24, 2021   \n",
              "9                                       United States  September 24, 2021   \n",
              "12                            Germany, Czech Republic  September 23, 2021   \n",
              "24                                              India  September 21, 2021   \n",
              "\n",
              "    release_year rating   duration  \\\n",
              "7           1993  TV-MA    125 min   \n",
              "8           2021  TV-14  9 Seasons   \n",
              "9           2021  PG-13    104 min   \n",
              "12          2021  TV-MA    127 min   \n",
              "24          1998  TV-14    166 min   \n",
              "\n",
              "                                           listed_in  \\\n",
              "7   Dramas, Independent Movies, International Movies   \n",
              "8                       British TV Shows, Reality TV   \n",
              "9                                   Comedies, Dramas   \n",
              "12                      Dramas, International Movies   \n",
              "24   Comedies, International Movies, Romantic Movies   \n",
              "\n",
              "                                          description  \n",
              "7   On a photo shoot in Ghana, an American model s...  \n",
              "8   A talented batch of amateur bakers face off in...  \n",
              "9   A woman adjusting to life after a loss contend...  \n",
              "12  After most of her family is murdered in a terr...  \n",
              "24  When the father of the man she loves insists t...  "
            ]
          },
          "execution_count": 40,
          "metadata": {},
          "output_type": "execute_result"
        }
      ],
      "source": [
        "#GUARDAMOS EL DATASET EN LA VARIABLE netflixTitle Y LO MOSTRAMOS.\n",
        "netflixTitle = pd.read_csv(\"netflix_titles.csv\")\n",
        "netflixTitle = netflixTitle.dropna()\n",
        "netflixTitle.head()"
      ]
    },
    {
      "cell_type": "code",
      "execution_count": 1,
      "metadata": {},
      "outputs": [
        {
          "ename": "NameError",
          "evalue": "name 'netflixTitle' is not defined",
          "output_type": "error",
          "traceback": [
            "\u001b[1;31m---------------------------------------------------------------------------\u001b[0m",
            "\u001b[1;31mNameError\u001b[0m                                 Traceback (most recent call last)",
            "\u001b[1;32md:\\github\\TP-Chona\\tp2\\SNN.ipynb Cell 13\u001b[0m line \u001b[0;36m2\n\u001b[0;32m      <a href='vscode-notebook-cell:/d%3A/github/TP-Chona/tp2/SNN.ipynb#X15sZmlsZQ%3D%3D?line=0'>1</a>\u001b[0m \u001b[39m#CREAMOS UNA NUEVA VARIABLE DONDE GUARDAMOS SOLO LOS DATOS QUE NOS SON UTILES DEL DATASET.\u001b[39;00m\n\u001b[1;32m----> <a href='vscode-notebook-cell:/d%3A/github/TP-Chona/tp2/SNN.ipynb#X15sZmlsZQ%3D%3D?line=1'>2</a>\u001b[0m netflixTitleNew \u001b[39m=\u001b[39m netflixTitle[[\u001b[39m'\u001b[39m\u001b[39mtype\u001b[39m\u001b[39m'\u001b[39m, \u001b[39m'\u001b[39m\u001b[39mdirector\u001b[39m\u001b[39m'\u001b[39m, \u001b[39m'\u001b[39m\u001b[39mcast\u001b[39m\u001b[39m'\u001b[39m, \u001b[39m'\u001b[39m\u001b[39mdate_added\u001b[39m\u001b[39m'\u001b[39m, \u001b[39m'\u001b[39m\u001b[39mlisted_in\u001b[39m\u001b[39m'\u001b[39m, \u001b[39m'\u001b[39m\u001b[39mdescription\u001b[39m\u001b[39m'\u001b[39m]]\n\u001b[0;32m      <a href='vscode-notebook-cell:/d%3A/github/TP-Chona/tp2/SNN.ipynb#X15sZmlsZQ%3D%3D?line=2'>3</a>\u001b[0m netflixTitleNew\n",
            "\u001b[1;31mNameError\u001b[0m: name 'netflixTitle' is not defined"
          ]
        }
      ],
      "source": [
        "#CREAMOS Y MOSTRAMOS UNA NUEVA VARIABLE DONDE GUARDAMOS SOLO LOS DATOS QUE NOS SON UTILES DEL DATASET.\n",
        "netflixTitleNew = netflixTitle[['type', 'director', 'cast', 'date_added', 'listed_in', 'description']]\n",
        "netflixTitleNew"
      ]
    },
    {
      "cell_type": "code",
      "execution_count": null,
      "metadata": {},
      "outputs": [
        {
          "data": {
            "text/html": [
              "<div>\n",
              "<style scoped>\n",
              "    .dataframe tbody tr th:only-of-type {\n",
              "        vertical-align: middle;\n",
              "    }\n",
              "\n",
              "    .dataframe tbody tr th {\n",
              "        vertical-align: top;\n",
              "    }\n",
              "\n",
              "    .dataframe thead th {\n",
              "        text-align: right;\n",
              "    }\n",
              "</style>\n",
              "<table border=\"1\" class=\"dataframe\">\n",
              "  <thead>\n",
              "    <tr style=\"text-align: right;\">\n",
              "      <th></th>\n",
              "      <th>type</th>\n",
              "      <th>director</th>\n",
              "      <th>cast</th>\n",
              "      <th>date_added</th>\n",
              "      <th>listed_in</th>\n",
              "      <th>description</th>\n",
              "    </tr>\n",
              "  </thead>\n",
              "  <tbody>\n",
              "    <tr>\n",
              "      <th>7</th>\n",
              "      <td>Movie</td>\n",
              "      <td>Haile Gerima</td>\n",
              "      <td>Kofi Ghanaba, Oyafunmike Ogunlano, Alexandra D...</td>\n",
              "      <td>September 24, 2021</td>\n",
              "      <td>Dramas, Independent Movies, International Movies</td>\n",
              "      <td>On a photo shoot in Ghana, an American model s...</td>\n",
              "    </tr>\n",
              "    <tr>\n",
              "      <th>8</th>\n",
              "      <td>TV Show</td>\n",
              "      <td>Andy Devonshire</td>\n",
              "      <td>Mel Giedroyc, Sue Perkins, Mary Berry, Paul Ho...</td>\n",
              "      <td>September 24, 2021</td>\n",
              "      <td>British TV Shows, Reality TV</td>\n",
              "      <td>A talented batch of amateur bakers face off in...</td>\n",
              "    </tr>\n",
              "    <tr>\n",
              "      <th>9</th>\n",
              "      <td>Movie</td>\n",
              "      <td>Theodore Melfi</td>\n",
              "      <td>Melissa McCarthy, Chris O'Dowd, Kevin Kline, T...</td>\n",
              "      <td>September 24, 2021</td>\n",
              "      <td>Comedies, Dramas</td>\n",
              "      <td>A woman adjusting to life after a loss contend...</td>\n",
              "    </tr>\n",
              "    <tr>\n",
              "      <th>12</th>\n",
              "      <td>Movie</td>\n",
              "      <td>Christian Schwochow</td>\n",
              "      <td>Luna Wedler, Jannis Niewöhner, Milan Peschel, ...</td>\n",
              "      <td>September 23, 2021</td>\n",
              "      <td>Dramas, International Movies</td>\n",
              "      <td>After most of her family is murdered in a terr...</td>\n",
              "    </tr>\n",
              "    <tr>\n",
              "      <th>24</th>\n",
              "      <td>Movie</td>\n",
              "      <td>S. Shankar</td>\n",
              "      <td>Prashanth, Aishwarya Rai Bachchan, Sri Lakshmi...</td>\n",
              "      <td>September 21, 2021</td>\n",
              "      <td>Comedies, International Movies, Romantic Movies</td>\n",
              "      <td>When the father of the man she loves insists t...</td>\n",
              "    </tr>\n",
              "    <tr>\n",
              "      <th>...</th>\n",
              "      <td>...</td>\n",
              "      <td>...</td>\n",
              "      <td>...</td>\n",
              "      <td>...</td>\n",
              "      <td>...</td>\n",
              "      <td>...</td>\n",
              "    </tr>\n",
              "    <tr>\n",
              "      <th>8801</th>\n",
              "      <td>Movie</td>\n",
              "      <td>Majid Al Ansari</td>\n",
              "      <td>Ali Suliman, Saleh Bakri, Yasa, Ali Al-Jabri, ...</td>\n",
              "      <td>March 9, 2016</td>\n",
              "      <td>Dramas, International Movies, Thrillers</td>\n",
              "      <td>Recovering alcoholic Talal wakes up inside a s...</td>\n",
              "    </tr>\n",
              "    <tr>\n",
              "      <th>8802</th>\n",
              "      <td>Movie</td>\n",
              "      <td>David Fincher</td>\n",
              "      <td>Mark Ruffalo, Jake Gyllenhaal, Robert Downey J...</td>\n",
              "      <td>November 20, 2019</td>\n",
              "      <td>Cult Movies, Dramas, Thrillers</td>\n",
              "      <td>A political cartoonist, a crime reporter and a...</td>\n",
              "    </tr>\n",
              "    <tr>\n",
              "      <th>8804</th>\n",
              "      <td>Movie</td>\n",
              "      <td>Ruben Fleischer</td>\n",
              "      <td>Jesse Eisenberg, Woody Harrelson, Emma Stone, ...</td>\n",
              "      <td>November 1, 2019</td>\n",
              "      <td>Comedies, Horror Movies</td>\n",
              "      <td>Looking to survive in a world taken over by zo...</td>\n",
              "    </tr>\n",
              "    <tr>\n",
              "      <th>8805</th>\n",
              "      <td>Movie</td>\n",
              "      <td>Peter Hewitt</td>\n",
              "      <td>Tim Allen, Courteney Cox, Chevy Chase, Kate Ma...</td>\n",
              "      <td>January 11, 2020</td>\n",
              "      <td>Children &amp; Family Movies, Comedies</td>\n",
              "      <td>Dragged from civilian life, a former superhero...</td>\n",
              "    </tr>\n",
              "    <tr>\n",
              "      <th>8806</th>\n",
              "      <td>Movie</td>\n",
              "      <td>Mozez Singh</td>\n",
              "      <td>Vicky Kaushal, Sarah-Jane Dias, Raaghav Chanan...</td>\n",
              "      <td>March 2, 2019</td>\n",
              "      <td>Dramas, International Movies, Music &amp; Musicals</td>\n",
              "      <td>A scrappy but poor boy worms his way into a ty...</td>\n",
              "    </tr>\n",
              "  </tbody>\n",
              "</table>\n",
              "<p>5332 rows × 6 columns</p>\n",
              "</div>"
            ],
            "text/plain": [
              "         type             director  \\\n",
              "7       Movie         Haile Gerima   \n",
              "8     TV Show      Andy Devonshire   \n",
              "9       Movie       Theodore Melfi   \n",
              "12      Movie  Christian Schwochow   \n",
              "24      Movie           S. Shankar   \n",
              "...       ...                  ...   \n",
              "8801    Movie      Majid Al Ansari   \n",
              "8802    Movie        David Fincher   \n",
              "8804    Movie      Ruben Fleischer   \n",
              "8805    Movie         Peter Hewitt   \n",
              "8806    Movie          Mozez Singh   \n",
              "\n",
              "                                                   cast          date_added  \\\n",
              "7     Kofi Ghanaba, Oyafunmike Ogunlano, Alexandra D...  September 24, 2021   \n",
              "8     Mel Giedroyc, Sue Perkins, Mary Berry, Paul Ho...  September 24, 2021   \n",
              "9     Melissa McCarthy, Chris O'Dowd, Kevin Kline, T...  September 24, 2021   \n",
              "12    Luna Wedler, Jannis Niewöhner, Milan Peschel, ...  September 23, 2021   \n",
              "24    Prashanth, Aishwarya Rai Bachchan, Sri Lakshmi...  September 21, 2021   \n",
              "...                                                 ...                 ...   \n",
              "8801  Ali Suliman, Saleh Bakri, Yasa, Ali Al-Jabri, ...       March 9, 2016   \n",
              "8802  Mark Ruffalo, Jake Gyllenhaal, Robert Downey J...   November 20, 2019   \n",
              "8804  Jesse Eisenberg, Woody Harrelson, Emma Stone, ...    November 1, 2019   \n",
              "8805  Tim Allen, Courteney Cox, Chevy Chase, Kate Ma...    January 11, 2020   \n",
              "8806  Vicky Kaushal, Sarah-Jane Dias, Raaghav Chanan...       March 2, 2019   \n",
              "\n",
              "                                             listed_in  \\\n",
              "7     Dramas, Independent Movies, International Movies   \n",
              "8                         British TV Shows, Reality TV   \n",
              "9                                     Comedies, Dramas   \n",
              "12                        Dramas, International Movies   \n",
              "24     Comedies, International Movies, Romantic Movies   \n",
              "...                                                ...   \n",
              "8801           Dramas, International Movies, Thrillers   \n",
              "8802                    Cult Movies, Dramas, Thrillers   \n",
              "8804                           Comedies, Horror Movies   \n",
              "8805                Children & Family Movies, Comedies   \n",
              "8806    Dramas, International Movies, Music & Musicals   \n",
              "\n",
              "                                            description  \n",
              "7     On a photo shoot in Ghana, an American model s...  \n",
              "8     A talented batch of amateur bakers face off in...  \n",
              "9     A woman adjusting to life after a loss contend...  \n",
              "12    After most of her family is murdered in a terr...  \n",
              "24    When the father of the man she loves insists t...  \n",
              "...                                                 ...  \n",
              "8801  Recovering alcoholic Talal wakes up inside a s...  \n",
              "8802  A political cartoonist, a crime reporter and a...  \n",
              "8804  Looking to survive in a world taken over by zo...  \n",
              "8805  Dragged from civilian life, a former superhero...  \n",
              "8806  A scrappy but poor boy worms his way into a ty...  \n",
              "\n",
              "[5332 rows x 6 columns]"
            ]
          },
          "execution_count": 42,
          "metadata": {},
          "output_type": "execute_result"
        }
      ],
      "source": [
        "netflixTitleNew"
      ]
    },
    {
      "cell_type": "code",
      "execution_count": null,
      "metadata": {},
      "outputs": [],
      "source": [
        "# SACAMOS LAS PARTES DONDE 'date_added' NO ES IGUAL A \"PG\".\n",
        "netflixTitle : pd.DataFrame= netflixTitle[netflixTitle[\"date_added\"] != \"PG\"]"
      ]
    },
    {
      "cell_type": "code",
      "execution_count": 2,
      "metadata": {},
      "outputs": [
        {
          "ename": "NameError",
          "evalue": "name 'netflixTitle' is not defined",
          "output_type": "error",
          "traceback": [
            "\u001b[1;31m---------------------------------------------------------------------------\u001b[0m",
            "\u001b[1;31mNameError\u001b[0m                                 Traceback (most recent call last)",
            "\u001b[1;32md:\\github\\TP-Chona\\tp2\\SNN.ipynb Cell 15\u001b[0m line \u001b[0;36m1\n\u001b[1;32m----> <a href='vscode-notebook-cell:/d%3A/github/TP-Chona/tp2/SNN.ipynb#X21sZmlsZQ%3D%3D?line=0'>1</a>\u001b[0m training_inputs: pd\u001b[39m.\u001b[39mDataFrame \u001b[39m=\u001b[39m netflixTitle\u001b[39m.\u001b[39mdrop([\u001b[39m'\u001b[39m\u001b[39mlisted_in\u001b[39m\u001b[39m'\u001b[39m, \u001b[39m'\u001b[39m\u001b[39mshow_id\u001b[39m\u001b[39m'\u001b[39m, \u001b[39m'\u001b[39m\u001b[39mcountry\u001b[39m\u001b[39m'\u001b[39m, \u001b[39m'\u001b[39m\u001b[39mrating\u001b[39m\u001b[39m'\u001b[39m, \u001b[39m'\u001b[39m\u001b[39mduration\u001b[39m\u001b[39m'\u001b[39m], axis\u001b[39m=\u001b[39m\u001b[39m1\u001b[39m)\n\u001b[0;32m      <a href='vscode-notebook-cell:/d%3A/github/TP-Chona/tp2/SNN.ipynb#X21sZmlsZQ%3D%3D?line=2'>3</a>\u001b[0m training_outputs: pd\u001b[39m.\u001b[39mSeries \u001b[39m=\u001b[39m netflixTitleNew\u001b[39m.\u001b[39mlisted_in\n\u001b[0;32m      <a href='vscode-notebook-cell:/d%3A/github/TP-Chona/tp2/SNN.ipynb#X21sZmlsZQ%3D%3D?line=3'>4</a>\u001b[0m display(training_inputs)\n",
            "\u001b[1;31mNameError\u001b[0m: name 'netflixTitle' is not defined"
          ]
        }
      ],
      "source": [
        "#CREAMOS UNA VARIABLE DONDE GUARDAREMOS LOS DATOS DE ENTRADA DESTINADOS A TRAINING.\n",
        "training_inputs: pd.DataFrame = netflixTitle.drop(['listed_in', 'show_id', 'country', 'rating', 'duration'], axis=1)\n",
        "#CREAMOS OTRA VARIABLE DONDE GUARDAMOS LOS DATOS DE SALIDA, ESTA SERA LA VARIABLE A PREDECIR EN ESTE MODELO.\n",
        "training_outputs: pd.Series = netflixTitleNew.listed_in\n",
        "display(training_inputs)\n",
        "display(training_outputs)"
      ]
    },
    {
      "cell_type": "code",
      "execution_count": null,
      "metadata": {},
      "outputs": [],
      "source": [
        "#CREAMOS UNA FUNCION LLAMADA SNNModel, ESTA MISMA CONFORMA A NUESTRA RED NEURONAL SIGMOIDE.\n",
        "SNNModel = lambda x, w: sigmoid(np.dot(x, w))"
      ]
    },
    {
      "cell_type": "code",
      "execution_count": null,
      "metadata": {},
      "outputs": [],
      "source": [
        "#ORDENAMOS LOS DATOS\n",
        "netflixTitle['listed_in']: pd.DataFrame = netflixTitle['listed_in'].astype(str)\n",
        "netflixTitle['listed_in']: pd.DataFrame = netflixTitle['listed_in'].str.replace(' ', '')\n",
        "netflixTitle['listed_in'] : pd.DataFrame= netflixTitle['listed_in'].str.split(',')"
      ]
    },
    {
      "cell_type": "code",
      "execution_count": null,
      "metadata": {},
      "outputs": [],
      "source": [
        "#HACEMOS UNA LISTA PARA GUARDAR LOS GENEROS DE CADA PELICULA.\n",
        "MovieGender:list = []\n",
        "for genre1 in netflixTitle['listed_in']:\n",
        "\n",
        "    for genre in genre1:\n",
        "        if genre != 'None' and genre not in MovieGender:\n",
        "            MovieGender.append(genre)\n",
        "#SI LA CASILLA DICE 'None' O ESTA REPETIDO EN LA LISTA NO SE AGREGA."
      ]
    },
    {
      "cell_type": "code",
      "execution_count": null,
      "metadata": {},
      "outputs": [],
      "source": [
        "for genre in MovieGender:\n",
        "    netflixTitle[genre] = netflixTitle['listed_in'].apply(lambda x: 1 if genre in x else 0)\n",
        "\n",
        "netflixTitle.drop('listed_in', axis=1, inplace=True)\n",
        "#CREAMOS COLUMNAS INDIVIDUALES PARA LOS GENEROS Y SI PERTENECE AL GENERO SE PONE 1 SI NO 0.\n",
        "\n",
        "display(netflixTitle)"
      ]
    },
    {
      "cell_type": "code",
      "execution_count": null,
      "metadata": {},
      "outputs": [],
      "source": [
        "matrizGeneros: pd.DataFrame = netflixTitle.drop(['show_id', 'type', 'title', 'director', 'cast', 'country', 'date_added', 'release_year', 'rating', 'duration', 'description'], axis=1)\n",
        "matrizGeneros"
      ]
    },
    {
      "cell_type": "code",
      "execution_count": null,
      "metadata": {},
      "outputs": [
        {
          "data": {
            "text/plain": [
              "(7, 42)"
            ]
          },
          "execution_count": 62,
          "metadata": {},
          "output_type": "execute_result"
        }
      ],
      "source": [
        "#ALMACENAMOS EN 'N' EL NUMERO DE COLUMNAS DEL DATAFRAME 'training_inputs'\n",
        "#CONFIGURACIÓN DE LA RED: EN NUESTRO MODELO, 'N' REPRESENTA LA CANTIDAD DE ENTRADAS (6), 'M' LA CANTIDAD DE SALIDAS (21), Y 'SYNAPTIC_WEIGHTS' DENOTA LOS PESOS ASOCIADOS A CADA UNA DE LAS ENTRADAS (21 PESOS POR CADA 'N').\n",
        "n :int = training_inputs.shape[1]\n",
        "#HACEMOS LO MISMO DE ANTES PERO AHORA CON EL DATAFRAME 'matrizGeneros' Y LO GUARDAMOS EN 'M'\n",
        "m :int = matrizGeneros.shape[1]\n",
        "#TERMINAMOS HACIENDO UNA NUEVA MATRIZ CON PESOS RANDOM Y DIMENSIONES (N, M)\n",
        "synaptic_weights = 2 + np.random.random((n, m)) - 1\n",
        "synaptic_weights: pd.DataFrame = synaptic_weights.astype(float)\n",
        "synaptic_weights.shape\n",
        "synaptic_weights"
      ]
    },
    {
      "cell_type": "code",
      "execution_count": null,
      "metadata": {},
      "outputs": [
        {
          "data": {
            "text/html": [
              "<div>\n",
              "<style scoped>\n",
              "    .dataframe tbody tr th:only-of-type {\n",
              "        vertical-align: middle;\n",
              "    }\n",
              "\n",
              "    .dataframe tbody tr th {\n",
              "        vertical-align: top;\n",
              "    }\n",
              "\n",
              "    .dataframe thead th {\n",
              "        text-align: right;\n",
              "    }\n",
              "</style>\n",
              "<table border=\"1\" class=\"dataframe\">\n",
              "  <thead>\n",
              "    <tr style=\"text-align: right;\">\n",
              "      <th></th>\n",
              "      <th>type</th>\n",
              "      <th>title</th>\n",
              "      <th>director</th>\n",
              "      <th>cast</th>\n",
              "      <th>date_added</th>\n",
              "      <th>release_year</th>\n",
              "      <th>description</th>\n",
              "    </tr>\n",
              "  </thead>\n",
              "  <tbody>\n",
              "    <tr>\n",
              "      <th>7</th>\n",
              "      <td>Movie</td>\n",
              "      <td>Sankofa</td>\n",
              "      <td>Haile Gerima</td>\n",
              "      <td>Kofi Ghanaba, Oyafunmike Ogunlano, Alexandra D...</td>\n",
              "      <td>September 24, 2021</td>\n",
              "      <td>1993</td>\n",
              "      <td>On a photo shoot in Ghana, an American model s...</td>\n",
              "    </tr>\n",
              "    <tr>\n",
              "      <th>8</th>\n",
              "      <td>TV Show</td>\n",
              "      <td>The Great British Baking Show</td>\n",
              "      <td>Andy Devonshire</td>\n",
              "      <td>Mel Giedroyc, Sue Perkins, Mary Berry, Paul Ho...</td>\n",
              "      <td>September 24, 2021</td>\n",
              "      <td>2021</td>\n",
              "      <td>A talented batch of amateur bakers face off in...</td>\n",
              "    </tr>\n",
              "    <tr>\n",
              "      <th>9</th>\n",
              "      <td>Movie</td>\n",
              "      <td>The Starling</td>\n",
              "      <td>Theodore Melfi</td>\n",
              "      <td>Melissa McCarthy, Chris O'Dowd, Kevin Kline, T...</td>\n",
              "      <td>September 24, 2021</td>\n",
              "      <td>2021</td>\n",
              "      <td>A woman adjusting to life after a loss contend...</td>\n",
              "    </tr>\n",
              "    <tr>\n",
              "      <th>12</th>\n",
              "      <td>Movie</td>\n",
              "      <td>Je Suis Karl</td>\n",
              "      <td>Christian Schwochow</td>\n",
              "      <td>Luna Wedler, Jannis Niewöhner, Milan Peschel, ...</td>\n",
              "      <td>September 23, 2021</td>\n",
              "      <td>2021</td>\n",
              "      <td>After most of her family is murdered in a terr...</td>\n",
              "    </tr>\n",
              "    <tr>\n",
              "      <th>24</th>\n",
              "      <td>Movie</td>\n",
              "      <td>Jeans</td>\n",
              "      <td>S. Shankar</td>\n",
              "      <td>Prashanth, Aishwarya Rai Bachchan, Sri Lakshmi...</td>\n",
              "      <td>September 21, 2021</td>\n",
              "      <td>1998</td>\n",
              "      <td>When the father of the man she loves insists t...</td>\n",
              "    </tr>\n",
              "    <tr>\n",
              "      <th>...</th>\n",
              "      <td>...</td>\n",
              "      <td>...</td>\n",
              "      <td>...</td>\n",
              "      <td>...</td>\n",
              "      <td>...</td>\n",
              "      <td>...</td>\n",
              "      <td>...</td>\n",
              "    </tr>\n",
              "    <tr>\n",
              "      <th>8801</th>\n",
              "      <td>Movie</td>\n",
              "      <td>Zinzana</td>\n",
              "      <td>Majid Al Ansari</td>\n",
              "      <td>Ali Suliman, Saleh Bakri, Yasa, Ali Al-Jabri, ...</td>\n",
              "      <td>March 9, 2016</td>\n",
              "      <td>2015</td>\n",
              "      <td>Recovering alcoholic Talal wakes up inside a s...</td>\n",
              "    </tr>\n",
              "    <tr>\n",
              "      <th>8802</th>\n",
              "      <td>Movie</td>\n",
              "      <td>Zodiac</td>\n",
              "      <td>David Fincher</td>\n",
              "      <td>Mark Ruffalo, Jake Gyllenhaal, Robert Downey J...</td>\n",
              "      <td>November 20, 2019</td>\n",
              "      <td>2007</td>\n",
              "      <td>A political cartoonist, a crime reporter and a...</td>\n",
              "    </tr>\n",
              "    <tr>\n",
              "      <th>8804</th>\n",
              "      <td>Movie</td>\n",
              "      <td>Zombieland</td>\n",
              "      <td>Ruben Fleischer</td>\n",
              "      <td>Jesse Eisenberg, Woody Harrelson, Emma Stone, ...</td>\n",
              "      <td>November 1, 2019</td>\n",
              "      <td>2009</td>\n",
              "      <td>Looking to survive in a world taken over by zo...</td>\n",
              "    </tr>\n",
              "    <tr>\n",
              "      <th>8805</th>\n",
              "      <td>Movie</td>\n",
              "      <td>Zoom</td>\n",
              "      <td>Peter Hewitt</td>\n",
              "      <td>Tim Allen, Courteney Cox, Chevy Chase, Kate Ma...</td>\n",
              "      <td>January 11, 2020</td>\n",
              "      <td>2006</td>\n",
              "      <td>Dragged from civilian life, a former superhero...</td>\n",
              "    </tr>\n",
              "    <tr>\n",
              "      <th>8806</th>\n",
              "      <td>Movie</td>\n",
              "      <td>Zubaan</td>\n",
              "      <td>Mozez Singh</td>\n",
              "      <td>Vicky Kaushal, Sarah-Jane Dias, Raaghav Chanan...</td>\n",
              "      <td>March 2, 2019</td>\n",
              "      <td>2015</td>\n",
              "      <td>A scrappy but poor boy worms his way into a ty...</td>\n",
              "    </tr>\n",
              "  </tbody>\n",
              "</table>\n",
              "<p>5332 rows × 7 columns</p>\n",
              "</div>"
            ],
            "text/plain": [
              "         type                          title             director  \\\n",
              "7       Movie                        Sankofa         Haile Gerima   \n",
              "8     TV Show  The Great British Baking Show      Andy Devonshire   \n",
              "9       Movie                   The Starling       Theodore Melfi   \n",
              "12      Movie                   Je Suis Karl  Christian Schwochow   \n",
              "24      Movie                          Jeans           S. Shankar   \n",
              "...       ...                            ...                  ...   \n",
              "8801    Movie                        Zinzana      Majid Al Ansari   \n",
              "8802    Movie                         Zodiac        David Fincher   \n",
              "8804    Movie                     Zombieland      Ruben Fleischer   \n",
              "8805    Movie                           Zoom         Peter Hewitt   \n",
              "8806    Movie                         Zubaan          Mozez Singh   \n",
              "\n",
              "                                                   cast          date_added  \\\n",
              "7     Kofi Ghanaba, Oyafunmike Ogunlano, Alexandra D...  September 24, 2021   \n",
              "8     Mel Giedroyc, Sue Perkins, Mary Berry, Paul Ho...  September 24, 2021   \n",
              "9     Melissa McCarthy, Chris O'Dowd, Kevin Kline, T...  September 24, 2021   \n",
              "12    Luna Wedler, Jannis Niewöhner, Milan Peschel, ...  September 23, 2021   \n",
              "24    Prashanth, Aishwarya Rai Bachchan, Sri Lakshmi...  September 21, 2021   \n",
              "...                                                 ...                 ...   \n",
              "8801  Ali Suliman, Saleh Bakri, Yasa, Ali Al-Jabri, ...       March 9, 2016   \n",
              "8802  Mark Ruffalo, Jake Gyllenhaal, Robert Downey J...   November 20, 2019   \n",
              "8804  Jesse Eisenberg, Woody Harrelson, Emma Stone, ...    November 1, 2019   \n",
              "8805  Tim Allen, Courteney Cox, Chevy Chase, Kate Ma...    January 11, 2020   \n",
              "8806  Vicky Kaushal, Sarah-Jane Dias, Raaghav Chanan...       March 2, 2019   \n",
              "\n",
              "      release_year                                        description  \n",
              "7             1993  On a photo shoot in Ghana, an American model s...  \n",
              "8             2021  A talented batch of amateur bakers face off in...  \n",
              "9             2021  A woman adjusting to life after a loss contend...  \n",
              "12            2021  After most of her family is murdered in a terr...  \n",
              "24            1998  When the father of the man she loves insists t...  \n",
              "...            ...                                                ...  \n",
              "8801          2015  Recovering alcoholic Talal wakes up inside a s...  \n",
              "8802          2007  A political cartoonist, a crime reporter and a...  \n",
              "8804          2009  Looking to survive in a world taken over by zo...  \n",
              "8805          2006  Dragged from civilian life, a former superhero...  \n",
              "8806          2015  A scrappy but poor boy worms his way into a ty...  \n",
              "\n",
              "[5332 rows x 7 columns]"
            ]
          },
          "execution_count": 64,
          "metadata": {},
          "output_type": "execute_result"
        }
      ],
      "source": [
        "training_inputs"
      ]
    },
    {
      "cell_type": "code",
      "execution_count": null,
      "metadata": {},
      "outputs": [],
      "source": [
        "# GENERAMOS UNA NUEVA COLUMNA PARA GUARDAR LA DURACIÓN DE LA PELÍCULA EXCLUYENDO EL TEXTO 'MIN'.\n",
        "training_inputs[\"runtime_alt\"] = training_inputs.Runtime.str.split( 'min').apply(lambda x: x[0])\n",
        "# BORAMOS LA COLUMNA 'RUNTIME'.\n",
        "training_inputs=training_inputs.drop(['Runtime'], 1)"
      ]
    },
    {
      "cell_type": "code",
      "execution_count": null,
      "metadata": {},
      "outputs": [],
      "source": [
        "# DAMOS VALOR 0 A LOS ESPACIOS VACÍOS EN LA COLUMNA 'GROSS' Y ELIMINAMOS LAS COMAS.\n",
        "training_inputs[\"Gross\"]: pd.DataFrame = training_inputs[\"Gross\"].fillna(0).str.replace(\",\", \"\")"
      ]
    },
    {
      "cell_type": "code",
      "execution_count": null,
      "metadata": {},
      "outputs": [],
      "source": [
        "# TRANSFORMAMOS LAS COLUMNAS DE 'TRAINING_INPUTS' A TIPO FLOAT.\n",
        "training_inputs: pd.DataFrame = training_inputs.astype(float)"
      ]
    },
    {
      "cell_type": "code",
      "execution_count": null,
      "metadata": {},
      "outputs": [],
      "source": [
        "#CAMBIAMOS LOS VALORES NAN DE LAS COLUMNAS 'GROSS' Y 'META_SCORE' A 0.\n",
        "training_inputs['Gross']=training_inputs['Gross'].fillna(0)\n",
        "training_inputs['Meta_score']=training_inputs['Meta_score'].fillna(0)"
      ]
    },
    {
      "cell_type": "code",
      "execution_count": null,
      "metadata": {},
      "outputs": [],
      "source": [
        "print('Synaptic weights after training')\n",
        "print(synaptic_weights)\n",
        "\n",
        "print('Outputs after training: ')\n",
        "print(outputs)"
      ]
    },
    {
      "cell_type": "code",
      "execution_count": null,
      "metadata": {},
      "outputs": [],
      "source": [
        "large = lambda x : display(HTML('<p style=\"font-size: 50px; color: #66D148\">'+str(x)+'</p>'))"
      ]
    },
    {
      "cell_type": "code",
      "execution_count": null,
      "metadata": {},
      "outputs": [],
      "source": [
        "input_layer"
      ]
    },
    {
      "cell_type": "code",
      "execution_count": null,
      "metadata": {
        "colab": {
          "base_uri": "https://localhost:8080/",
          "height": 156
        },
        "id": "IJe-z6WUCH98",
        "outputId": "fb5963d9-2e0e-469b-980d-a7e277b1240b"
      },
      "outputs": [
        {
          "data": {
            "text/plain": [
              "array([[0, 0, 1],\n",
              "       [1, 1, 1],\n",
              "       [1, 0, 1],\n",
              "       [0, 1, 1]])"
            ]
          },
          "metadata": {},
          "output_type": "display_data"
        },
        {
          "data": {
            "text/plain": [
              "array([[0],\n",
              "       [1],\n",
              "       [1],\n",
              "       [0]])"
            ]
          },
          "metadata": {},
          "output_type": "display_data"
        }
      ],
      "source": [
        "training_inputs = np.array([\n",
        "    [0,0,1],\n",
        "    [1,1,1],\n",
        "    [1,0,1],\n",
        "    [0,1,1]\n",
        "])\n",
        "\n",
        "training_outputs = np.array([[0,1,1,0]]).T\n",
        "\n",
        "display(training_inputs)\n",
        "display(training_outputs)"
      ]
    },
    {
      "cell_type": "code",
      "execution_count": null,
      "metadata": {
        "colab": {
          "base_uri": "https://localhost:8080/",
          "height": 103
        },
        "id": "PCajxnvAdyhl",
        "outputId": "c5e7b0c3-c9f7-4bf7-fb8e-cda04a487f25"
      },
      "outputs": [
        {
          "data": {
            "text/html": [
              "<table>\n",
              "<tbody>\n",
              "<tr><td style=\"text-align: right;\">0</td><td style=\"text-align: right;\">0</td><td style=\"text-align: right;\">1</td><td style=\"text-align: right;\">0</td></tr>\n",
              "<tr><td style=\"text-align: right;\">1</td><td style=\"text-align: right;\">1</td><td style=\"text-align: right;\">1</td><td style=\"text-align: right;\">1</td></tr>\n",
              "<tr><td style=\"text-align: right;\">1</td><td style=\"text-align: right;\">0</td><td style=\"text-align: right;\">1</td><td style=\"text-align: right;\">1</td></tr>\n",
              "<tr><td style=\"text-align: right;\">0</td><td style=\"text-align: right;\">1</td><td style=\"text-align: right;\">1</td><td style=\"text-align: right;\">0</td></tr>\n",
              "</tbody>\n",
              "</table>"
            ],
            "text/plain": [
              "<IPython.core.display.HTML object>"
            ]
          },
          "metadata": {},
          "output_type": "display_data"
        }
      ],
      "source": [
        "training_values = np.concatenate((training_inputs.T, training_outputs.T)).T\n",
        "table = lambda arr : display(HTML(tabulate.tabulate(arr, tablefmt='html')))\n",
        "table(training_values)"
      ]
    },
    {
      "cell_type": "markdown",
      "metadata": {
        "id": "WM0UGBrAnxKs"
      },
      "source": [
        "#### Synaptic weights"
      ]
    },
    {
      "cell_type": "code",
      "execution_count": null,
      "metadata": {
        "colab": {
          "base_uri": "https://localhost:8080/"
        },
        "id": "2WjmwkX7E6t1",
        "outputId": "ed66ea3b-25d7-40d1-fafb-2afa097da45e"
      },
      "outputs": [
        {
          "data": {
            "text/plain": [
              "array([[1.417022  ],\n",
              "       [1.72032449],\n",
              "       [1.00011437]])"
            ]
          },
          "execution_count": 48,
          "metadata": {},
          "output_type": "execute_result"
        }
      ],
      "source": [
        "n = training_inputs.shape[1]\n",
        "synaptic_weights = 2 + np.random.random((3, 1)) - 1\n",
        "\n",
        "synaptic_weights"
      ]
    },
    {
      "cell_type": "markdown",
      "metadata": {
        "id": "SvRwhjxMn-lw"
      },
      "source": [
        "## Training"
      ]
    },
    {
      "cell_type": "markdown",
      "metadata": {
        "id": "vyFklb0-ptf3"
      },
      "source": [
        "Para obtener un resultado a partir de los inputs y los synaptic weights se realiza la siguiente función:\n",
        "\n",
        "$$\\sum_{i=0}^{n}{x_iw_i}$$\n",
        "\n",
        "Y se le aplica la función sigmoide para normalizar al rango 0, 1\n",
        "\n",
        "Por ejemplo, si nuestros inputs $x_i$ son `[1, 1, 1]` y nuestros pesos sinapticos $w_i$ son `[[11.30926442], [-0.20511667], [-5.4500033]]`\n",
        "\n",
        "Nos resulta la cuenta\n",
        "$$[1 \\times 11.30926442] + [1 \\times (-0.20511667)] + [1 \\times (-5.4500033)] = 5.6541444499999995$$\n",
        "\n",
        "Con la función sigmoide es facil ver como $$\\operatorname{sigmoid}(5.65) \\approx 1$$"
      ]
    },
    {
      "cell_type": "code",
      "execution_count": null,
      "metadata": {
        "id": "cVzwPQlYstOz"
      },
      "outputs": [],
      "source": [
        "eval_NN = lambda x, w: sigmoid(np.dot(x, w))"
      ]
    },
    {
      "cell_type": "code",
      "execution_count": null,
      "metadata": {
        "id": "GE6UM40eE8kR"
      },
      "outputs": [],
      "source": [
        "# 50000 epochs\n",
        "for iteration in range(50000):\n",
        "\n",
        "    # Arranca con los valores de training. Es nuestra layer/capa de entrada donde llegan los datos con los que predeciremos\n",
        "    input_layer = training_inputs\n",
        "    # Genera un output haciendo la suma de los valores de input multiplicados por su peso sinaptico, y aplicandole la función sigmoide para normalizar a -1, 1\n",
        "    outputs = eval_NN(input_layer, synaptic_weights)#(Forward propagation) Esta multiplicando las entradas por los pesos para llegar a los resultados (salidas)\n",
        "\n",
        "    # Calculo el error\n",
        "    error = generos_matriz - outputs\n",
        "\n",
        "    # Ajusto los pesos en funcion al error y al resultado obtenido (Back propagation: como dijimos antes lo que está haciendo es correr la función \"de atrás para adelante\", ya que está ajustando los pesos en función de la diferencia entre las salidas)\n",
        "    adjustments = error * sigmoid_derivative(outputs)\n",
        "    synaptic_weights += np.dot(input_layer.T, adjustments)#Gradiente descendente: ajustamos los pesos para obtener el que menor error nos dara (óptimo local)"
      ]
    },
    {
      "cell_type": "code",
      "execution_count": null,
      "metadata": {
        "colab": {
          "base_uri": "https://localhost:8080/"
        },
        "id": "8_LfZgY9FBpO",
        "outputId": "77bca46c-13b2-46a4-ef7d-2c1689c871a6"
      },
      "outputs": [
        {
          "name": "stdout",
          "output_type": "stream",
          "text": [
            "Synaptic weights after training\n",
            "[[11.30928823]\n",
            " [-0.2049903 ]\n",
            " [-5.45009058]]\n",
            "Outputs after training: \n",
            "[[0.00427758]\n",
            " [0.99650944]\n",
            " [0.99715456]\n",
            " [0.00348752]]\n"
          ]
        }
      ],
      "source": [
        "print('Synaptic weights after training')\n",
        "print(synaptic_weights)\n",
        "\n",
        "print('Outputs after training: ')\n",
        "print(outputs)"
      ]
    },
    {
      "cell_type": "markdown",
      "metadata": {
        "id": "1lBXXHfFoD67"
      },
      "source": [
        "## Eval"
      ]
    },
    {
      "cell_type": "code",
      "execution_count": null,
      "metadata": {
        "colab": {
          "base_uri": "https://localhost:8080/",
          "height": 103
        },
        "id": "zOynLtbAeKjy",
        "outputId": "a5a69983-e66e-43e3-dae8-c5aa47dc205c"
      },
      "outputs": [
        {
          "data": {
            "text/html": [
              "<table>\n",
              "<tbody>\n",
              "<tr><td style=\"text-align: right;\">0</td><td style=\"text-align: right;\">0</td><td style=\"text-align: right;\">1</td><td style=\"text-align: right;\">0</td></tr>\n",
              "<tr><td style=\"text-align: right;\">1</td><td style=\"text-align: right;\">1</td><td style=\"text-align: right;\">1</td><td style=\"text-align: right;\">1</td></tr>\n",
              "<tr><td style=\"text-align: right;\">1</td><td style=\"text-align: right;\">0</td><td style=\"text-align: right;\">1</td><td style=\"text-align: right;\">1</td></tr>\n",
              "<tr><td style=\"text-align: right;\">0</td><td style=\"text-align: right;\">1</td><td style=\"text-align: right;\">1</td><td style=\"text-align: right;\">0</td></tr>\n",
              "</tbody>\n",
              "</table>"
            ],
            "text/plain": [
              "<IPython.core.display.HTML object>"
            ]
          },
          "metadata": {},
          "output_type": "display_data"
        }
      ],
      "source": [
        "table(training_values)"
      ]
    },
    {
      "cell_type": "code",
      "execution_count": null,
      "metadata": {
        "id": "1V_H4tV6vzvd"
      },
      "outputs": [],
      "source": [
        "large = lambda x : display(HTML('<p style=\"font-size: 50px; color: #66D148\">'+str(x)+'</p>'))"
      ]
    },
    {
      "cell_type": "code",
      "execution_count": null,
      "metadata": {
        "colab": {
          "base_uri": "https://localhost:8080/",
          "height": 108
        },
        "id": "wlN9Pkcwbb-J",
        "outputId": "77ccc4ba-0d3e-41a8-f3ed-757c15c6f5ee"
      },
      "outputs": [
        {
          "ename": "NameError",
          "evalue": "name 'np' is not defined",
          "output_type": "error",
          "traceback": [
            "\u001b[1;31m---------------------------------------------------------------------------\u001b[0m",
            "\u001b[1;31mNameError\u001b[0m                                 Traceback (most recent call last)",
            "\u001b[1;32md:\\github\\TP-Chona\\tp2\\SNN.ipynb Cell 28\u001b[0m line \u001b[0;36m5\n\u001b[0;32m      <a href='vscode-notebook-cell:/d%3A/github/TP-Chona/tp2/SNN.ipynb#X36sZmlsZQ%3D%3D?line=1'>2</a>\u001b[0m c \u001b[39m=\u001b[39m \u001b[39m1\u001b[39m \u001b[39m#@param {type:\"integer\"}\u001b[39;00m\n\u001b[0;32m      <a href='vscode-notebook-cell:/d%3A/github/TP-Chona/tp2/SNN.ipynb#X36sZmlsZQ%3D%3D?line=2'>3</a>\u001b[0m b \u001b[39m=\u001b[39m \u001b[39m1\u001b[39m \u001b[39m#@param {type:\"integer\"}\u001b[39;00m\n\u001b[1;32m----> <a href='vscode-notebook-cell:/d%3A/github/TP-Chona/tp2/SNN.ipynb#X36sZmlsZQ%3D%3D?line=4'>5</a>\u001b[0m input_layer \u001b[39m=\u001b[39m np\u001b[39m.\u001b[39marray([a, b, c])\n\u001b[0;32m      <a href='vscode-notebook-cell:/d%3A/github/TP-Chona/tp2/SNN.ipynb#X36sZmlsZQ%3D%3D?line=5'>6</a>\u001b[0m res \u001b[39m=\u001b[39m sigmoid(np\u001b[39m.\u001b[39mdot(input_layer, synaptic_weights))[\u001b[39m0\u001b[39m]\n\u001b[0;32m      <a href='vscode-notebook-cell:/d%3A/github/TP-Chona/tp2/SNN.ipynb#X36sZmlsZQ%3D%3D?line=6'>7</a>\u001b[0m display(res)\n",
            "\u001b[1;31mNameError\u001b[0m: name 'np' is not defined"
          ]
        }
      ],
      "source": [
        "a = 1 #@param {type:\"integer\"}\n",
        "c = 1 #@param {type:\"integer\"}\n",
        "b = 1 #@param {type:\"integer\"}\n",
        "\n",
        "input_layer = np.array([a, b, c])\n",
        "res = sigmoid(np.dot(input_layer, synaptic_weights))[0]\n",
        "display(res)\n",
        "\n",
        "thresh = 0.01\n",
        "out = 0 if res < thresh else 1\n",
        "\n",
        "large(out)"
      ]
    },
    {
      "cell_type": "code",
      "execution_count": null,
      "metadata": {},
      "outputs": [],
      "source": [
        "input_layer"
      ]
    },
    {
      "cell_type": "code",
      "execution_count": null,
      "metadata": {},
      "outputs": [],
      "source": [
        "a = 1 #@param {type:\"integer\"}\n",
        "c = 1 #@param {type:\"integer\"}\n",
        "b = 1 #@param {type:\"integer\"}\n",
        "d = 1 #@param {type:\"integer\"}\n",
        "e = 1 #@param {type:\"integer\"}\n",
        "f = 1 #@param {type:\"integer\"}\n",
        "\n",
        "input_layer = np.array([a, b, c, d, e, f])\n",
        "res = sigmoid(np.dot(input_layer, synaptic_weights))[0]\n",
        "display(res)\n",
        "\n",
        "thresh = 0.01\n",
        "out = 0 if res < thresh else 1\n",
        "\n",
        "large(out)"
      ]
    },
    {
      "cell_type": "markdown",
      "metadata": {
        "id": "tUfPpGoCoGaA"
      },
      "source": [
        "### Graph"
      ]
    },
    {
      "cell_type": "code",
      "execution_count": null,
      "metadata": {
        "colab": {
          "base_uri": "https://localhost:8080/",
          "height": 248
        },
        "id": "foiUQNleiahq",
        "outputId": "566a7c16-a04a-468c-e918-b9eb7a93a8fe"
      },
      "outputs": [
        {
          "data": {
            "image/png": "[encoded data removed]",
            "text/plain": [
              "<Figure size 640x480 with 1 Axes>"
            ]
          },
          "metadata": {},
          "output_type": "display_data"
        }
      ],
      "source": [
        "G = nx.DiGraph()\n",
        "layers = [[0, 1, 2], [3]]\n",
        "\n",
        "rels = list(itertools.product(*layers))\n",
        "#rels.append((3, 4))\n",
        "flatten = lambda l: [x for i in l for x in i]\n",
        "\n",
        "labels = {i: v for i, v in enumerate(input_layer)}\n",
        "labels[3] = round(res, 3)\n",
        "#labels[4] = 0 if res < thresh else 1\n",
        "\n",
        "pos = {}\n",
        "m = max([len(l) for l in layers])\n",
        "for i, l in enumerate(layers):\n",
        "  for j, v in enumerate(l):\n",
        "    pos[v] = (i, len(l) - j)\n",
        "\n",
        "pos[3] = (pos[3][0], pos[1][1])\n",
        "#pos[4] = (pos[3][0] + 1, pos[1][1])\n",
        "\n",
        "weights_labels = {(ra, rb): \"{:0.3f}\".format(synaptic_weights[i][0]) for i, (ra, rb) in enumerate(rels)}\n",
        "G.add_edges_from(rels)\n",
        "\n",
        "options = {\n",
        "    \"font_size\": 16,\n",
        "    \"node_size\": 3000,\n",
        "    \"node_color\": [(1, 1, 1, 1) for _ in range(len(labels))],\n",
        "    \"edgecolors\": \"black\",\n",
        "    \"linewidths\": 3,\n",
        "    \"width\": 3,\n",
        "    \"labels\": labels,\n",
        "    \"connectionstyle\": \"arc3, rad=0\",\n",
        "}\n",
        "\n",
        "nx.draw_networkx(G, pos, **options)\n",
        "\n",
        "nx.draw_networkx_edge_labels(\n",
        "    G, pos,\n",
        "    edge_labels=weights_labels,\n",
        "    font_color='black',\n",
        "    font_size=16,\n",
        "    font_weight='bold'\n",
        ")\n",
        "\n",
        "plt.axis('off')\n",
        "ax = plt.gca()\n",
        "ax.margins(0.20)\n",
        "plt.show()"
      ]
    }
  ],
  "metadata": {
    "colab": {
      "name": "SNN.ipynb",
      "provenance": []
    },
    "kernelspec": {
      "display_name": "Python 3",
      "name": "python3"
    },
    "language_info": {
      "codemirror_mode": {
        "name": "ipython",
        "version": 3
      },
      "file_extension": ".py",
      "mimetype": "text/x-python",
      "name": "python",
      "nbconvert_exporter": "python",
      "pygments_lexer": "ipython3",
      "version": "3.11.6"
    }
  },
  "nbformat": 4,
  "nbformat_minor": 0
}
